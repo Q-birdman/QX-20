{
 "cells": [
  {
   "cell_type": "code",
   "execution_count": 22,
   "metadata": {
    "collapsed": false
   },
   "outputs": [
    {
     "name": "stdout",
     "output_type": "stream",
     "text": [
      "[979 399]\n"
     ]
    }
   ],
   "source": [
    "import cv2\n",
    "import matplotlib.pyplot as plt\n",
    "\n",
    "image_name = \"yuka16011215IMG_5734_TP_V.jpg\" #写真の取り込み\n",
    "\n",
    "src=cv2.imread(image_name)\n",
    "image_gray=cv2.cvtColor(src,cv2.COLOR_BGR2GRAY) #グレイスケール化\n",
    "color=(0,0,255) #かこむやつ(赤)\n",
    "color_c=(255,0,0) #打つやつ(点,青)\n",
    "cascade = cv2.CascadeClassifier(\"haarcascade_frontalface_alt2.xml\") #学習データの取り込み\n",
    "\n",
    "#なんとかする呪文\n",
    "facerect = cascade.detectMultiScale(image_gray, scaleFactor=1.1, minNeighbors=1, minSize=(50,50))\n",
    "\n",
    "if len(facerect) > 0:\n",
    "    for rect in facerect:\n",
    "        cv2.rectangle(src,tuple(rect[0:2]),tuple(rect[0:2]+rect[2:4]),color,thickness = 2) #顔を囲む線\n",
    "        cv2.circle(src,tuple(rect[0:2]+rect[2:4]//2),5,color_c,thickness=-10) #中心に点を打つ\n",
    "        print(rect[0:2]+rect[2:4]//2)#中心点を出力する\n",
    "\n",
    "cv2.imwrite(image_name+\"_result.jpg\",src)#保存するやつ\n",
    "cv2.destroyAllWindows() #メモリの開放的な感じ"
   ]
  },
  {
   "cell_type": "code",
   "execution_count": null,
   "metadata": {
    "collapsed": true
   },
   "outputs": [],
   "source": []
  }
 ],
 "metadata": {
  "anaconda-cloud": {},
  "kernelspec": {
   "display_name": "Python [Root]",
   "language": "python",
   "name": "Python [Root]"
  },
  "language_info": {
   "codemirror_mode": {
    "name": "ipython",
    "version": 3
   },
   "file_extension": ".py",
   "mimetype": "text/x-python",
   "name": "python",
   "nbconvert_exporter": "python",
   "pygments_lexer": "ipython3",
   "version": "3.5.2"
  }
 },
 "nbformat": 4,
 "nbformat_minor": 0
}
