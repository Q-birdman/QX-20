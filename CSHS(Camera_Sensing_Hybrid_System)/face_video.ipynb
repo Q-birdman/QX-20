{
 "cells": [
  {
   "cell_type": "code",
   "execution_count": 2,
   "metadata": {
    "collapsed": true
   },
   "outputs": [],
   "source": [
    "import cv2"
   ]
  },
  {
   "cell_type": "code",
   "execution_count": 4,
   "metadata": {
    "collapsed": false
   },
   "outputs": [],
   "source": [
    "video = cv2.VideoCapture(0)\n",
    "cascade_path = \"haarcascade_frontalface_alt.xml\"#顔の認証データ\n",
    "\n",
    "cascade = cv2.CascadeClassifier(cascade_path)\n",
    "\n",
    "while video.isOpened():\n",
    "    ret,frame = video.read()\n",
    "    \n",
    "    if not ret: break\n",
    "    \n",
    "    facerect = cascade.detectMultiScale(frame,scaleFactor=1.1,minNeighbors=2,minSize=(1,1))\n",
    "    rectangle_color = (255,0,0)\n",
    "    \n",
    "    cv2.imshow(\"frame\",frame)\n",
    "    \n",
    "    key = cv2.waitkey(1)&0xFF\n",
    "    if key == ord(\"q\"): break\n",
    "        \n",
    "video.release()\n",
    "cv2.destroyAllWindows()"
   ]
  },
  {
   "cell_type": "code",
   "execution_count": null,
   "metadata": {
    "collapsed": true
   },
   "outputs": [],
   "source": []
  }
 ],
 "metadata": {
  "kernelspec": {
   "display_name": "Python [Root]",
   "language": "python",
   "name": "Python [Root]"
  },
  "language_info": {
   "codemirror_mode": {
    "name": "ipython",
    "version": 3
   },
   "file_extension": ".py",
   "mimetype": "text/x-python",
   "name": "python",
   "nbconvert_exporter": "python",
   "pygments_lexer": "ipython3",
   "version": "3.5.2"
  }
 },
 "nbformat": 4,
 "nbformat_minor": 0
}
